{
 "cells": [
  {
   "cell_type": "code",
   "execution_count": 2,
   "id": "0dcd1658",
   "metadata": {},
   "outputs": [
    {
     "name": "stdout",
     "output_type": "stream",
     "text": [
      "Requirement already satisfied: tweepy in c:\\users\\nagen\\anaconda3\\lib\\site-packages (4.5.0)\n",
      "Requirement already satisfied: requests<3,>=2.27.0 in c:\\users\\nagen\\anaconda3\\lib\\site-packages (from tweepy) (2.27.1)\n",
      "Requirement already satisfied: requests-oauthlib<2,>=1.0.0 in c:\\users\\nagen\\anaconda3\\lib\\site-packages (from tweepy) (1.3.1)\n",
      "Requirement already satisfied: charset-normalizer~=2.0.0 in c:\\users\\nagen\\anaconda3\\lib\\site-packages (from requests<3,>=2.27.0->tweepy) (2.0.4)\n",
      "Requirement already satisfied: certifi>=2017.4.17 in c:\\users\\nagen\\anaconda3\\lib\\site-packages (from requests<3,>=2.27.0->tweepy) (2021.10.8)\n",
      "Requirement already satisfied: urllib3<1.27,>=1.21.1 in c:\\users\\nagen\\anaconda3\\lib\\site-packages (from requests<3,>=2.27.0->tweepy) (1.26.7)\n",
      "Requirement already satisfied: idna<4,>=2.5 in c:\\users\\nagen\\anaconda3\\lib\\site-packages (from requests<3,>=2.27.0->tweepy) (3.2)\n",
      "Requirement already satisfied: oauthlib>=3.0.0 in c:\\users\\nagen\\anaconda3\\lib\\site-packages (from requests-oauthlib<2,>=1.0.0->tweepy) (3.2.0)\n",
      "Note: you may need to restart the kernel to use updated packages.\n"
     ]
    }
   ],
   "source": [
    "pip install tweepy"
   ]
  },
  {
   "cell_type": "code",
   "execution_count": 1,
   "id": "c979d2a3",
   "metadata": {},
   "outputs": [],
   "source": [
    "import re\n",
    "import tweepy\n",
    "from datetime import datetime, timedelta\n",
    "from tweepy import OAuthHandler"
   ]
  },
  {
   "cell_type": "code",
   "execution_count": 2,
   "id": "6450a569",
   "metadata": {},
   "outputs": [],
   "source": [
    "consumer_api_key = 'X'\n",
    "consumer_api_secret = 'X' \n",
    "access_token = 'x'\n",
    "access_token_secret ='x'"
   ]
  },
  {
   "cell_type": "code",
   "execution_count": null,
   "id": "b9fc398d",
   "metadata": {},
   "outputs": [],
   "source": [
    "authorizer = OAuthHandler(consumer_api_key, consumer_api_secret)\n",
    "authorizer.set_access_token(access_token, access_token_secret)"
   ]
  },
  {
   "cell_type": "code",
   "execution_count": null,
   "id": "b04a5d33",
   "metadata": {},
   "outputs": [],
   "source": [
    "api = tweepy.API(authorizer ,timeout=15)\n",
    "all_tweets = []\n",
    "search_query = 'COVID19'\n",
    "date = datetime.now() - timedelta(days=90)\n",
    "for tweet_object in tweepy.Cursor(api.search,q=search_query+\" -filter:retweets\",lang='en', since=date).items():\n",
    "    all_tweets.append(tweet_object.text)"
   ]
  }
 ],
 "metadata": {
  "kernelspec": {
   "display_name": "Python 3 (ipykernel)",
   "language": "python",
   "name": "python3"
  },
  "language_info": {
   "codemirror_mode": {
    "name": "ipython",
    "version": 3
   },
   "file_extension": ".py",
   "mimetype": "text/x-python",
   "name": "python",
   "nbconvert_exporter": "python",
   "pygments_lexer": "ipython3",
   "version": "3.9.7"
  }
 },
 "nbformat": 4,
 "nbformat_minor": 5
}
